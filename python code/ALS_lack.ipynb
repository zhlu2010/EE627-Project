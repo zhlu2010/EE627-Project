{
 "cells": [
  {
   "cell_type": "code",
   "execution_count": 10,
   "metadata": {},
   "outputs": [],
   "source": [
    "import numpy as np"
   ]
  },
  {
   "cell_type": "code",
   "execution_count": 11,
   "metadata": {},
   "outputs": [],
   "source": [
    "lack1=['201764|99699|0', '201962|290557|0', '205578|40556|0', '209427|182926|0', '211355|273745|0', '211542|236983|0', '213062|257402|0', '217814|282196|0', '222284|99699|0', '226863|282540|0', '239626|182926|0']"
   ]
  },
  {
   "cell_type": "code",
   "execution_count": 12,
   "metadata": {},
   "outputs": [
    {
     "data": {
      "text/plain": [
       "['201764|99699|72.99258134492243\\n',\n",
       " '201962|290557|23.181846443591436\\n',\n",
       " '205578|40556|73.21239100662301\\n',\n",
       " '209427|182926|38.349127266458105\\n',\n",
       " '211355|273745|7.023215491097623\\n',\n",
       " '211542|236983|82.7256661312377\\n',\n",
       " '213062|257402|36.34298849984031\\n',\n",
       " '217814|282196|37.94116594328148\\n',\n",
       " '222284|99699|60.44368793879421\\n',\n",
       " '226863|282540|33.939976373265814\\n',\n",
       " '239626|182926|88.91783230859312\\n']"
      ]
     },
     "execution_count": 12,
     "metadata": {},
     "output_type": "execute_result"
    }
   ],
   "source": [
    "lackList1 = []\n",
    "for item in lack1:\n",
    "    line = item.split('|')\n",
    "    user = line[0]\n",
    "    item = line[1]\n",
    "    score = np.random.uniform(0, 100)\n",
    "    lis = str(user) + '|' + str(item) + '|' + str(score) + '\\n'\n",
    "    lackList1.append(lis)\n",
    "lackList1"
   ]
  },
  {
   "cell_type": "raw",
   "metadata": {},
   "source": [
    "f = open('lackList1.txt', 'a')\n",
    "f.writelines(lackList1)\n",
    "f.close()"
   ]
  },
  {
   "cell_type": "code",
   "execution_count": 13,
   "metadata": {},
   "outputs": [],
   "source": [
    "lack2 = ['227794|235968|0', '228550|204660|0', '233600|244986|0', '234512|179776|0', '234911|175541|0', '236927|198558|0', '237180|75679|0', '239834|75679|0', '240299|128682|0', '240579|12238|0']"
   ]
  },
  {
   "cell_type": "code",
   "execution_count": 14,
   "metadata": {},
   "outputs": [],
   "source": [
    "lackList2 = []\n",
    "for item in lack2:\n",
    "    line = item.split('|')\n",
    "    user = line[0]\n",
    "    item = line[1]\n",
    "    score = np.random.uniform(0, 100)\n",
    "    lis = str(user) + '|' + str(item) + '|' + str(score) + '\\n'\n",
    "    lackList2.append(lis)"
   ]
  },
  {
   "cell_type": "raw",
   "metadata": {},
   "source": [
    "# f = open('lackList2.txt', 'a')\n",
    "f.writelines(lackList2)\n",
    "f.close()"
   ]
  },
  {
   "cell_type": "code",
   "execution_count": 15,
   "metadata": {},
   "outputs": [],
   "source": [
    "lack3 = ['242951|83528|0', '244261|17777|0', '244356|237110|0', '245335|79059|0', '245355|19630|0']"
   ]
  },
  {
   "cell_type": "code",
   "execution_count": 16,
   "metadata": {},
   "outputs": [],
   "source": [
    "lackList3 = []\n",
    "for item in lack3:\n",
    "    line = item.split('|')\n",
    "    user = line[0]\n",
    "    item = line[1]\n",
    "    score = np.random.uniform(0, 100)\n",
    "    lis = str(user) + '|' + str(item) + '|' + str(score) + '\\n'\n",
    "    lackList3.append(lis)"
   ]
  },
  {
   "cell_type": "raw",
   "metadata": {},
   "source": [
    "f = open('lackList3.txt', 'a')\n",
    "f.writelines(lackList3)\n",
    "f.close()"
   ]
  },
  {
   "cell_type": "code",
   "execution_count": 17,
   "metadata": {},
   "outputs": [
    {
     "data": {
      "text/plain": [
       "26"
      ]
     },
     "execution_count": 17,
     "metadata": {},
     "output_type": "execute_result"
    }
   ],
   "source": [
    "lackList = []\n",
    "lackList.extend(lackList1)\n",
    "lackList.extend(lackList2)\n",
    "lackList.extend(lackList3)\n",
    "len(lackList)"
   ]
  },
  {
   "cell_type": "code",
   "execution_count": 18,
   "metadata": {},
   "outputs": [],
   "source": [
    "f = open('lackListRank15.txt', 'a')\n",
    "f.writelines(lackList)\n",
    "f.close()"
   ]
  }
 ],
 "metadata": {
  "kernelspec": {
   "display_name": "Python 3",
   "language": "python",
   "name": "python3"
  },
  "language_info": {
   "codemirror_mode": {
    "name": "ipython",
    "version": 3
   },
   "file_extension": ".py",
   "mimetype": "text/x-python",
   "name": "python",
   "nbconvert_exporter": "python",
   "pygments_lexer": "ipython3",
   "version": "3.6.6"
  }
 },
 "nbformat": 4,
 "nbformat_minor": 2
}
